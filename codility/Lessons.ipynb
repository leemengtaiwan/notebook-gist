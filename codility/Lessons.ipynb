{
 "cells": [
  {
   "cell_type": "markdown",
   "metadata": {
    "heading_collapsed": true
   },
   "source": [
    "# Lesson 1 - Iterations"
   ]
  },
  {
   "cell_type": "markdown",
   "metadata": {
    "heading_collapsed": true,
    "hidden": true
   },
   "source": [
    "## Binary Gap"
   ]
  },
  {
   "cell_type": "code",
   "execution_count": 26,
   "metadata": {
    "collapsed": false,
    "hidden": true
   },
   "outputs": [],
   "source": [
    "# you can write to stdout for debugging purposes, e.g.\n",
    "# print(\"this is a debug message\")\n",
    "\n",
    "def solution(N):\n",
    "    import re\n",
    "    \"\"\"\n",
    "    Return the longest binary gap of the positibe integer N\n",
    "    \"\"\"\n",
    "    # transfrom the integer to binary form\n",
    "    b_repr = \"{0:b}\".format(N)\n",
    "    \n",
    "    # special case handling\n",
    "    # trailing zeros\n",
    "    b_repr = re.findall(r'.*1', b_repr)[0]\n",
    "    \n",
    "    # divide by 1 to find gaps\n",
    "    gaps = b_repr.split(\"1\")\n",
    "    \n",
    "    # find gap with max length\n",
    "    return max([len(x) for x in gaps])"
   ]
  },
  {
   "cell_type": "code",
   "execution_count": 27,
   "metadata": {
    "collapsed": true,
    "hidden": true
   },
   "outputs": [],
   "source": [
    "test_cases = {6: 0, 328: 2, 51712:2 , 20:1, 16:0, 1024:0}"
   ]
  },
  {
   "cell_type": "code",
   "execution_count": 28,
   "metadata": {
    "collapsed": false,
    "hidden": true
   },
   "outputs": [
    {
     "name": "stdout",
     "output_type": "stream",
     "text": [
      "All test cases passed\n"
     ]
    }
   ],
   "source": [
    "for N in test_cases:\n",
    "    s = solution(N)\n",
    "    assert s == test_cases[N]\n",
    "print(\"All test cases passed\")"
   ]
  },
  {
   "cell_type": "markdown",
   "metadata": {
    "heading_collapsed": true
   },
   "source": [
    "# Lesson 2 - Arrays"
   ]
  },
  {
   "cell_type": "markdown",
   "metadata": {
    "heading_collapsed": true,
    "hidden": true
   },
   "source": [
    "## OddOccurrencesInArray"
   ]
  },
  {
   "cell_type": "markdown",
   "metadata": {
    "hidden": true
   },
   "source": [
    "注意所有符合條件的 special cases"
   ]
  },
  {
   "cell_type": "code",
   "execution_count": 62,
   "metadata": {
    "collapsed": false,
    "hidden": true
   },
   "outputs": [],
   "source": [
    "def solution(A):\n",
    "    # special case for single element in A\n",
    "    if len(A) == 1: return A[0]\n",
    "    \n",
    "    A = sorted(A)\n",
    "    for x1, x2 in zip(A[0::2], A[1::2]):\n",
    "        if x1 != x2:\n",
    "            return x1\n",
    "    \n",
    "    return A[-1]"
   ]
  },
  {
   "cell_type": "code",
   "execution_count": 60,
   "metadata": {
    "collapsed": false,
    "hidden": true
   },
   "outputs": [],
   "source": [
    "test_cases = [[1, 1, 2, 2, 1000000]]"
   ]
  },
  {
   "cell_type": "markdown",
   "metadata": {
    "heading_collapsed": true,
    "hidden": true
   },
   "source": [
    "## CyclicRotation"
   ]
  },
  {
   "cell_type": "code",
   "execution_count": 65,
   "metadata": {
    "collapsed": false,
    "hidden": true
   },
   "outputs": [
    {
     "data": {
      "text/plain": [
       "[6, 3, 8, 9, 7]"
      ]
     },
     "execution_count": 65,
     "metadata": {},
     "output_type": "execute_result"
    }
   ],
   "source": [
    "def solution(A, K):\n",
    "    # special cases\n",
    "    if len(A) == K or K == 0 or len(set(A)) in [0, 1]:\n",
    "        return A        \n",
    "    # general case\n",
    "    else:\n",
    "        for _ in range(K):\n",
    "            A[0], A[1:] = A[-1], A[:-1]\n",
    "        return A"
   ]
  },
  {
   "cell_type": "markdown",
   "metadata": {},
   "source": [
    "# Lesson 3 - Time Complexity"
   ]
  },
  {
   "cell_type": "markdown",
   "metadata": {
    "heading_collapsed": true
   },
   "source": [
    "## PermMissingElem"
   ]
  },
  {
   "cell_type": "code",
   "execution_count": 79,
   "metadata": {
    "collapsed": true,
    "hidden": true
   },
   "outputs": [],
   "source": [
    "def solution(A):\n",
    "    A, N = sorted(A), len(A)\n",
    "    \n",
    "    # empty array\n",
    "    if not A: return 1\n",
    "    \n",
    "    for e, n in zip(A, range(1, N + 2)):\n",
    "        # print(e, n)\n",
    "        if e != n: return n\n",
    "    \n",
    "    return N + 1"
   ]
  },
  {
   "cell_type": "markdown",
   "metadata": {
    "heading_collapsed": true
   },
   "source": [
    "## TapeEquilibrium\n",
    "在做iteration的時候, 前個iteration能拿來重複使用的部分就先存下來讓下個iter用, 不要每次都從頭開始."
   ]
  },
  {
   "cell_type": "code",
   "execution_count": 4,
   "metadata": {
    "collapsed": false,
    "hidden": true
   },
   "outputs": [],
   "source": [
    "def solution(A):\n",
    "    diffs = []\n",
    "    left, right = 0, 0\n",
    "    \n",
    "    for p in range(1, len(A)):\n",
    "        if p == 1:\n",
    "            left, right = sum(A[:p]), sum(A[p:])\n",
    "        else:\n",
    "            left, right = left + A[p-1], right - A[p-1]\n",
    "        diffs.append(abs(left - right))\n",
    "        # print(left, right)\n",
    "    return min(diffs)"
   ]
  },
  {
   "cell_type": "code",
   "execution_count": 5,
   "metadata": {
    "collapsed": false,
    "hidden": true
   },
   "outputs": [
    {
     "data": {
      "text/plain": [
       "3030"
      ]
     },
     "execution_count": 5,
     "metadata": {},
     "output_type": "execute_result"
    }
   ],
   "source": [
    "solution([i for i in range(10000)])"
   ]
  },
  {
   "cell_type": "markdown",
   "metadata": {
    "heading_collapsed": true
   },
   "source": [
    "## FrogJmp"
   ]
  },
  {
   "cell_type": "code",
   "execution_count": 6,
   "metadata": {
    "collapsed": false,
    "hidden": true
   },
   "outputs": [
    {
     "data": {
      "text/plain": [
       "2.5"
      ]
     },
     "execution_count": 6,
     "metadata": {},
     "output_type": "execute_result"
    }
   ],
   "source": [
    "def solution(X, Y, D):\n",
    "    import math\n",
    "    dist = Y - X\n",
    "    if dist == 0: return 0\n",
    "    elif D >= dist: return 1\n",
    "    return math.ceil(dist / D)"
   ]
  },
  {
   "cell_type": "markdown",
   "metadata": {},
   "source": [
    "# Lesson 4 - Counting Elements"
   ]
  },
  {
   "cell_type": "markdown",
   "metadata": {
    "heading_collapsed": true
   },
   "source": [
    "## PermCheck"
   ]
  },
  {
   "cell_type": "code",
   "execution_count": 13,
   "metadata": {
    "collapsed": true,
    "hidden": true
   },
   "outputs": [],
   "source": [
    "def solution(A):\n",
    "    # basic check\n",
    "    if len(set(A)) != len(A):\n",
    "        return 0\n",
    "    n = len(A)\n",
    "    perfect_sum = n * (n+1) / float(2) # O(1)\n",
    "    real_sum = sum(A) # O(n)\n",
    "    return 1 if perfect_sum == real_sum else 0"
   ]
  },
  {
   "cell_type": "code",
   "execution_count": 14,
   "metadata": {
    "collapsed": false,
    "hidden": true
   },
   "outputs": [],
   "source": [
    "assert solution([2, 2, 2]) == 0"
   ]
  },
  {
   "cell_type": "markdown",
   "metadata": {
    "heading_collapsed": true
   },
   "source": [
    "## FrogRiverOne\n",
    "在操作一個array的時候, 如果修改該array裡頭某一個element之後, 要針對該array裡頭全部的elements的值依照某些條件做count的時候, 我們可以在一開始就先創一個新變數 count 來記錄符合該條件的elements數, 在修改array的時候順便也更新該變數, 之後要做判斷的時候只要看該變數而不用重新 iterate 整個 array."
   ]
  },
  {
   "cell_type": "code",
   "execution_count": 1,
   "metadata": {
    "collapsed": false,
    "hidden": true
   },
   "outputs": [],
   "source": [
    "def solution(X, A):\n",
    "    pos = [False for _ in range(1, X + 1)]\n",
    "    num_leaves = 0\n",
    "    \n",
    "    for t, x in enumerate(A):\n",
    "        if not pos[x-1]:\n",
    "            pos[x-1] = True\n",
    "            num_leaves +=1\n",
    "        if num_leaves == X:\n",
    "            return t\n",
    "    return -1"
   ]
  },
  {
   "cell_type": "code",
   "execution_count": 2,
   "metadata": {
    "collapsed": false,
    "hidden": true
   },
   "outputs": [
    {
     "data": {
      "text/plain": [
       "-1"
      ]
     },
     "execution_count": 2,
     "metadata": {},
     "output_type": "execute_result"
    }
   ],
   "source": [
    "import numpy as np\n",
    "X = 100000\n",
    "A = list(np.random.randint(1, X + 1, size=X))\n",
    "solution(X, A)"
   ]
  },
  {
   "cell_type": "markdown",
   "metadata": {},
   "source": [
    "## MissingInteger\n",
    "正確性 > performance"
   ]
  },
  {
   "cell_type": "code",
   "execution_count": 18,
   "metadata": {
    "collapsed": true
   },
   "outputs": [],
   "source": [
    "def solution(A):\n",
    "    A = sorted(list(set([x for x in A if x > 0])))\n",
    "    if not A or A[0] != 1: \n",
    "        return 1\n",
    "    prev = A[0]\n",
    "    for x in A[1:]:\n",
    "        if prev + 1 == x:\n",
    "            prev = x\n",
    "        else:\n",
    "            return prev + 1\n",
    "    \n",
    "    return A[-1] + 1"
   ]
  },
  {
   "cell_type": "code",
   "execution_count": 19,
   "metadata": {
    "collapsed": false
   },
   "outputs": [
    {
     "data": {
      "text/plain": [
       "1"
      ]
     },
     "execution_count": 19,
     "metadata": {},
     "output_type": "execute_result"
    }
   ],
   "source": [
    "N = 100000\n",
    "A = list(np.random.randint(-1000000, 1000000, size=N))\n",
    "solution(A)"
   ]
  },
  {
   "cell_type": "code",
   "execution_count": 20,
   "metadata": {
    "collapsed": false
   },
   "outputs": [
    {
     "data": {
      "text/plain": [
       "3"
      ]
     },
     "execution_count": 20,
     "metadata": {},
     "output_type": "execute_result"
    }
   ],
   "source": [
    "solution([1, 2, 5, 100])"
   ]
  },
  {
   "cell_type": "markdown",
   "metadata": {},
   "source": [
    "## MaxCounters\n",
    "- N and M are integers within the range [1..100,000];\n",
    "- each element of array A is an integer within the range [1..N + 1].\n",
    "\n",
    "概念上每當做一次 max operation 我們就要更新整個 array, 但這樣寫的話 worst case 是我們要做對 array 裡頭的 M 個 elements 做 N 次 max operations => O(M * N). 與其這樣, 不如每次遇到 max operation 我們就一樣用一個變數 base 去記錄目前所有 elements 該有的最小值, 然後當要更新某個 element 的時候再實際利用 base 去更新. "
   ]
  },
  {
   "cell_type": "code",
   "execution_count": 196,
   "metadata": {
    "collapsed": true
   },
   "outputs": [],
   "source": [
    "# original solution with score 77\n",
    "def solution(N, A):\n",
    "    C = [0] * N\n",
    "    cur_max = 0\n",
    "    for n in A:\n",
    "        if n > N:\n",
    "            C = [cur_max] * N\n",
    "        else:\n",
    "            C[n-1] += 1\n",
    "            cur_max = max(C[n-1], cur_max)\n",
    "    return C"
   ]
  },
  {
   "cell_type": "code",
   "execution_count": 203,
   "metadata": {
    "collapsed": true
   },
   "outputs": [],
   "source": [
    "# optimal solution with score 100\n",
    "def solution(N, A):\n",
    "    C = [0] * N\n",
    "    base, cur_max = 0, 0\n",
    "    for n in A: # O(M)\n",
    "        if n > N:\n",
    "            base = max(base, cur_max)\n",
    "        else:\n",
    "            C[n-1] = max(base, C[n-1]) + 1\n",
    "            cur_max = max(C[n-1], cur_max)\n",
    "    for i, _ in enumerate(C): # O(N)\n",
    "        C[i] = base if C[i] < base else C[i]\n",
    "    return C"
   ]
  },
  {
   "cell_type": "code",
   "execution_count": 204,
   "metadata": {
    "collapsed": false
   },
   "outputs": [],
   "source": [
    "assert solution(5, [3, 4, 4, 6, 1, 4, 4]) == [3, 2, 2, 4, 2]"
   ]
  },
  {
   "cell_type": "code",
   "execution_count": 205,
   "metadata": {
    "collapsed": false
   },
   "outputs": [],
   "source": [
    "N = 3\n",
    "A = [2, 4, 1]\n",
    "assert solution(N, A) == [2, 1, 1]"
   ]
  },
  {
   "cell_type": "code",
   "execution_count": 206,
   "metadata": {
    "collapsed": false
   },
   "outputs": [],
   "source": [
    "N = 1\n",
    "A = [2, 1, 1, 2, 1]\n",
    "assert solution(N, A) == [3]"
   ]
  },
  {
   "cell_type": "code",
   "execution_count": 207,
   "metadata": {
    "collapsed": false
   },
   "outputs": [
    {
     "name": "stdout",
     "output_type": "stream",
     "text": [
      "10 loops, best of 3: 154 ms per loop\n"
     ]
    }
   ],
   "source": [
    "%%timeit 10\n",
    "N = 100000\n",
    "A = [x for x in np.random.randint(1, N + 2, size=N)]\n",
    "s = solution(N, A)"
   ]
  },
  {
   "cell_type": "code",
   "execution_count": 208,
   "metadata": {
    "collapsed": false
   },
   "outputs": [],
   "source": [
    "N = 1\n",
    "A = [2 for _ in range(10)]\n",
    "assert solution(N, A) == [0]"
   ]
  },
  {
   "cell_type": "code",
   "execution_count": 209,
   "metadata": {
    "collapsed": false
   },
   "outputs": [],
   "source": [
    "N = 1\n",
    "A = [1 for _ in range(10)]\n",
    "assert solution(N, A) == [10]"
   ]
  },
  {
   "cell_type": "markdown",
   "metadata": {
    "collapsed": true,
    "heading_collapsed": true
   },
   "source": [
    "# Lesson 5 - Prefix Sums"
   ]
  },
  {
   "cell_type": "markdown",
   "metadata": {
    "collapsed": true,
    "heading_collapsed": true,
    "hidden": true
   },
   "source": [
    "## Helper"
   ]
  },
  {
   "cell_type": "code",
   "execution_count": 48,
   "metadata": {
    "collapsed": true,
    "hidden": true
   },
   "outputs": [],
   "source": [
    "def prefix_sums(A):\n",
    "    n = len(A)\n",
    "    P = [0] * (n + 1)\n",
    "    for k in range(1, n + 1):\n",
    "        P[k] = P[k - 1] + A[k - 1]\n",
    "    return P"
   ]
  },
  {
   "cell_type": "code",
   "execution_count": 4,
   "metadata": {
    "collapsed": false,
    "hidden": true
   },
   "outputs": [
    {
     "name": "stdout",
     "output_type": "stream",
     "text": [
      "A: [1] prefix_sum: [0, 1]\n",
      "A: [1, 2] prefix_sum: [0, 1, 3]\n",
      "A: [1, 2, 3] prefix_sum: [0, 1, 3, 6]\n",
      "A: [1, 2, 3, 4] prefix_sum: [0, 1, 3, 6, 10]\n",
      "A: [1, 2, 3, 4, 5] prefix_sum: [0, 1, 3, 6, 10, 15]\n"
     ]
    }
   ],
   "source": [
    "for i in range(1, 6):\n",
    "    A = [j for j in range(1, i + 1)]\n",
    "    print('A:', A, 'prefix_sum:', prefix_sums(A))"
   ]
  },
  {
   "cell_type": "code",
   "execution_count": 49,
   "metadata": {
    "collapsed": true,
    "hidden": true
   },
   "outputs": [],
   "source": [
    "def slice_sum(P, x, y):\n",
    "    return P[y + 1] - P[x]"
   ]
  },
  {
   "cell_type": "code",
   "execution_count": 6,
   "metadata": {
    "collapsed": false,
    "hidden": true
   },
   "outputs": [
    {
     "name": "stdout",
     "output_type": "stream",
     "text": [
      "[1, 2, 3, 4, 5]\n"
     ]
    },
    {
     "data": {
      "text/plain": [
       "14"
      ]
     },
     "execution_count": 6,
     "metadata": {},
     "output_type": "execute_result"
    }
   ],
   "source": [
    "print(A)\n",
    "P = prefix_sums(A)\n",
    "slice_sum(P, 1, len(A) - 1)"
   ]
  },
  {
   "cell_type": "code",
   "execution_count": 7,
   "metadata": {
    "collapsed": true,
    "hidden": true
   },
   "outputs": [],
   "source": [
    "def mushrooms(A, k, m):\n",
    "    n = len(A)\n",
    "    result = 0\n",
    "    P = prefix_sums(A)\n",
    "    for p in range(min(m, k) + 1):\n",
    "        left_pos = k - p\n",
    "        right_pos = min(n - 1, max(k, k + m - 2 * p))\n",
    "#         print('p:', p, 'left_pos:', left_pos, 'right_pos:', right_pos)\n",
    "        result = max(result, slice_sum(P, left_pos, right_pos))\n",
    "    for p in range(min(m + 1, n - k)):\n",
    "        right_pos = k + p\n",
    "        left_pos = max(0, min(k, k - (m - 2 * p)))\n",
    "        result = max(result, slice_sum(P, left_pos, right_pos))\n",
    "    return result"
   ]
  },
  {
   "cell_type": "code",
   "execution_count": 8,
   "metadata": {
    "collapsed": false,
    "hidden": true
   },
   "outputs": [],
   "source": [
    "A = [2, 3, 7, 5, 1, 3, 9]\n",
    "assert mushrooms(A, 4, 6) == 25"
   ]
  },
  {
   "cell_type": "markdown",
   "metadata": {
    "collapsed": true,
    "heading_collapsed": true,
    "hidden": true
   },
   "source": [
    "## CountDiv"
   ]
  },
  {
   "cell_type": "code",
   "execution_count": 41,
   "metadata": {
    "collapsed": false,
    "hidden": true
   },
   "outputs": [],
   "source": [
    "def solution(A, B, K):\n",
    "    import math\n",
    "    min_factor = math.ceil(A/K)\n",
    "    max_factor = math.floor(B/K)\n",
    "    return max_factor - min_factor + 1"
   ]
  },
  {
   "cell_type": "code",
   "execution_count": 47,
   "metadata": {
    "collapsed": false,
    "hidden": true
   },
   "outputs": [
    {
     "data": {
      "text/plain": [
       "2"
      ]
     },
     "execution_count": 47,
     "metadata": {},
     "output_type": "execute_result"
    }
   ],
   "source": [
    "solution(1, 6, 3)"
   ]
  },
  {
   "cell_type": "markdown",
   "metadata": {
    "heading_collapsed": true,
    "hidden": true
   },
   "source": [
    "## PassingCars"
   ]
  },
  {
   "cell_type": "code",
   "execution_count": 63,
   "metadata": {
    "collapsed": true,
    "hidden": true
   },
   "outputs": [],
   "source": [
    "def solution(A):\n",
    "    N = len(A)\n",
    "    P = prefix_sums(A)\n",
    "    result = 0\n",
    "    \n",
    "    # count 1s for all 0s\n",
    "    for i, x in enumerate(A):\n",
    "#         print(i, x)\n",
    "        if x == 0:\n",
    "            result += P[N] - P[i]\n",
    "    return -1 if result > 1e9 else result"
   ]
  },
  {
   "cell_type": "code",
   "execution_count": 60,
   "metadata": {
    "collapsed": false,
    "hidden": true
   },
   "outputs": [
    {
     "name": "stdout",
     "output_type": "stream",
     "text": [
      "0 0\n",
      "1 1\n",
      "2 0\n"
     ]
    },
    {
     "data": {
      "text/plain": [
       "1"
      ]
     },
     "execution_count": 60,
     "metadata": {},
     "output_type": "execute_result"
    }
   ],
   "source": [
    "solution([0, 1, 0])"
   ]
  },
  {
   "cell_type": "markdown",
   "metadata": {
    "hidden": true
   },
   "source": [
    "## GenomicRangeQuery"
   ]
  },
  {
   "cell_type": "code",
   "execution_count": 160,
   "metadata": {
    "collapsed": true,
    "hidden": true
   },
   "outputs": [],
   "source": [
    "def solution(S, P, Q):\n",
    "    lookup_v = {char: score for char, score in zip(['A', 'C', 'G', 'T'], [1, 2, 3, 4])}\n",
    "    last_seen = [[-1] * len(S) for _ in lookup_v] # a list of lists indicating every char\n",
    "#     for l in last_seen:\n",
    "#         print(l)\n",
    "#     print('-'*10)\n",
    "    \n",
    "    # traverse S for recording last seen position of every char: O(N)\n",
    "    for idx, char in enumerate(S):\n",
    "        char_idx = lookup_v[char] - 1\n",
    "        # update all current positions with previous positions\n",
    "        for i in range(len(last_seen)):\n",
    "            if idx > 0:\n",
    "                last_seen[i][idx] = last_seen[i][idx-1]\n",
    "        last_seen[char_idx][idx] = idx\n",
    "    \n",
    "    # for l in last_seen:\n",
    "    #     print(l)\n",
    "    # print('-'*10)\n",
    "    result = []\n",
    "    for idx, (p, q) in enumerate(zip(P, Q)):\n",
    "#         print(p, q)\n",
    "#         if p == q:\n",
    "#             result.append(lookup_v[S[q]])\n",
    "#         else:\n",
    "        for i, l in enumerate(last_seen):\n",
    "            if l[q] >= P[idx]:\n",
    "                result.append(i + 1)\n",
    "                # print(p, q, l[p], l[q], i + 1)\n",
    "                break\n",
    "    return result"
   ]
  },
  {
   "cell_type": "code",
   "execution_count": 162,
   "metadata": {
    "collapsed": false,
    "hidden": true
   },
   "outputs": [],
   "source": [
    "assert solution(['C', \"A\", 'G', 'C', 'C', 'T', 'A'], [2, 5, 0], [4, 5, 6]) == [2, 4, 1]"
   ]
  },
  {
   "cell_type": "markdown",
   "metadata": {
    "hidden": true
   },
   "source": [
    "## MinAvgTwoSlice"
   ]
  },
  {
   "cell_type": "code",
   "execution_count": 177,
   "metadata": {
    "collapsed": false,
    "hidden": true
   },
   "outputs": [],
   "source": [
    "# first try\n",
    "def solution(A):\n",
    "    averages = [1000000] * len(A)\n",
    "    for p in range(len(A) - 1):\n",
    "        q = p + 1\n",
    "        while q < len(A) and (q - p) < 3:\n",
    "            # print(p, q)\n",
    "            averages[p] = min(sum(A[p:q+1]) / (q - p + 1), averages[p])\n",
    "            q += 1\n",
    "    return min(enumerate(averages), key=lambda x: x[1])[0]"
   ]
  },
  {
   "cell_type": "markdown",
   "metadata": {},
   "source": [
    "# Lesson 6 - Sorting"
   ]
  },
  {
   "cell_type": "markdown",
   "metadata": {
    "heading_collapsed": true
   },
   "source": [
    "## Helper"
   ]
  },
  {
   "cell_type": "code",
   "execution_count": 185,
   "metadata": {
    "collapsed": false,
    "hidden": true
   },
   "outputs": [],
   "source": [
    "# O(n ^ 2)\n",
    "def selectionSort(A):\n",
    "    n = len(A)\n",
    "    for k in range(n):\n",
    "        minimal = k\n",
    "        for j in range(k + 1, n):\n",
    "#             print('minimal: {}, A[minimal]: {}, A[j]: {}'.format(minimal, A[minimal], A[j]))\n",
    "            if A[j] < A[minimal]:\n",
    "                minimal = j\n",
    "            A[k], A[minimal] = A[minimal], A[k] # swap A[k] and A[minimal]\n",
    "    return A"
   ]
  },
  {
   "cell_type": "code",
   "execution_count": 186,
   "metadata": {
    "collapsed": false,
    "hidden": true
   },
   "outputs": [
    {
     "data": {
      "text/plain": [
       "[1, 2, 3, 8]"
      ]
     },
     "execution_count": 186,
     "metadata": {},
     "output_type": "execute_result"
    }
   ],
   "source": [
    "selectionSort([1, 8, 3, 2])"
   ]
  },
  {
   "cell_type": "code",
   "execution_count": 206,
   "metadata": {
    "collapsed": true,
    "hidden": true
   },
   "outputs": [],
   "source": [
    "# O(n + k)\n",
    "def countingSort(A, k):\n",
    "    n = len(A)\n",
    "    count = [0] * (k + 1)\n",
    "    for i in range(n):\n",
    "        count[A[i]] += 1\n",
    "    p = 0\n",
    "    for i in range(k + 1):\n",
    "        for j in range(count[i]):\n",
    "            A[p] = i\n",
    "            p += 1\n",
    "        \n",
    "    return A"
   ]
  },
  {
   "cell_type": "code",
   "execution_count": 207,
   "metadata": {
    "collapsed": false,
    "hidden": true
   },
   "outputs": [
    {
     "data": {
      "text/plain": [
       "[1, 2, 3, 8]"
      ]
     },
     "execution_count": 207,
     "metadata": {},
     "output_type": "execute_result"
    }
   ],
   "source": [
    "countingSort([1, 8, 3, 2], 8)"
   ]
  },
  {
   "cell_type": "code",
   "execution_count": 209,
   "metadata": {
    "collapsed": false,
    "hidden": true
   },
   "outputs": [],
   "source": [
    "def distinct(A):\n",
    "    n = len(A)\n",
    "    A.sort()\n",
    "    result = 1\n",
    "    for k in range(1, n):\n",
    "        if A[k] != A[k - 1]:\n",
    "            result += 1\n",
    "    return result"
   ]
  },
  {
   "cell_type": "code",
   "execution_count": 211,
   "metadata": {
    "collapsed": false,
    "hidden": true
   },
   "outputs": [
    {
     "data": {
      "text/plain": [
       "4"
      ]
     },
     "execution_count": 211,
     "metadata": {},
     "output_type": "execute_result"
    }
   ],
   "source": [
    "distinct([1, 8, 3, 2, 2])"
   ]
  },
  {
   "cell_type": "markdown",
   "metadata": {},
   "source": [
    "## Triangle"
   ]
  },
  {
   "cell_type": "code",
   "execution_count": 212,
   "metadata": {
    "collapsed": true
   },
   "outputs": [],
   "source": [
    "def solution(A):\n",
    "    A.sort()\n",
    "    for i in range(len(A)-2):\n",
    "        if A[i] + A[i+1] > A[i+2]:\n",
    "            return 1\n",
    "    return 0"
   ]
  },
  {
   "cell_type": "markdown",
   "metadata": {},
   "source": [
    "## Distinct"
   ]
  },
  {
   "cell_type": "code",
   "execution_count": 213,
   "metadata": {
    "collapsed": true
   },
   "outputs": [],
   "source": [
    "def solution(A):\n",
    "    if not A: return 0\n",
    "    A.sort()\n",
    "    count = 1\n",
    "    # print(A)\n",
    "    for idx in range(len(A)-1):\n",
    "        # print(idx)\n",
    "        if A[idx] != A[idx+1]: count += 1\n",
    "    return count"
   ]
  },
  {
   "cell_type": "markdown",
   "metadata": {},
   "source": [
    "### MaxProductOfThree"
   ]
  },
  {
   "cell_type": "code",
   "execution_count": 214,
   "metadata": {
    "collapsed": true
   },
   "outputs": [],
   "source": [
    "def solution(A):\n",
    "    A.sort()\n",
    "    # print(A)\n",
    "    return max(A[0] * A[1] * A[-1], A[-1] * A[-2] * A[-3])"
   ]
  },
  {
   "cell_type": "markdown",
   "metadata": {
    "collapsed": true
   },
   "source": [
    "### NumberOfDiscIntersections"
   ]
  },
  {
   "cell_type": "markdown",
   "metadata": {},
   "source": [
    "Visualization 很重要, 想辦法把問題 visualize 成比較簡單的問題.\n",
    "\n",
    "Nice references\n",
    "- http://www.lucainvernizzi.net/blog/2014/11/21/codility-beta-challenge-number-of-disc-intersections/"
   ]
  },
  {
   "cell_type": "code",
   "execution_count": 18,
   "metadata": {
    "collapsed": true
   },
   "outputs": [],
   "source": [
    "# O(n^2) with score 50\n",
    "def solution(A):\n",
    "    pairs = 0\n",
    "    \n",
    "    for x, radius in enumerate(A):\n",
    "        l, r = x - radius, x + radius\n",
    "        print(x, radius, l, r)\n",
    "        for x2 in range(x + 1, len(A)):\n",
    "            l2, r2 = x2 - A[x2], x2 + A[x2]\n",
    "            if r >= l2:\n",
    "                pairs += 1\n",
    "\n",
    "    return -1 if pairs > 1e7 else pairs"
   ]
  },
  {
   "cell_type": "code",
   "execution_count": 34,
   "metadata": {
    "collapsed": true
   },
   "outputs": [],
   "source": [
    "# O(n * logn)\n",
    "def solution(A):\n",
    "    points = []\n",
    "    for x, radius in enumerate(A):\n",
    "        points += [(x-radius, 1), (x+radius, -1)]\n",
    "    points.sort(key=lambda x: (x[0], -x[1])) # O(N * logN)\n",
    "    print(points)\n",
    "    \n",
    "    pairs, active_discs = 0, 0\n",
    "    for _, is_active in points:\n",
    "        pairs += active_discs * (is_active == 1)\n",
    "        active_discs += is_active\n",
    "        if pairs > 1e7:\n",
    "            return -1\n",
    "        \n",
    "    return pairs\n",
    "    "
   ]
  },
  {
   "cell_type": "markdown",
   "metadata": {
    "collapsed": true,
    "heading_collapsed": true
   },
   "source": [
    "# Lesson 7 - Stacks and Queues"
   ]
  },
  {
   "cell_type": "markdown",
   "metadata": {
    "collapsed": true,
    "hidden": true
   },
   "source": [
    "## Stack"
   ]
  },
  {
   "cell_type": "code",
   "execution_count": 43,
   "metadata": {
    "collapsed": true,
    "hidden": true
   },
   "outputs": [],
   "source": [
    "N = 5\n",
    "stack = [0] * N\n",
    "size = 0\n",
    "def push(x):\n",
    "    global size\n",
    "    stack[size] = x\n",
    "    size += 1\n",
    "    print(stack, size)\n",
    "def pop():\n",
    "    global size\n",
    "    size -= 1\n",
    "    print(stack, size)\n",
    "    return stack[size]"
   ]
  },
  {
   "cell_type": "code",
   "execution_count": 44,
   "metadata": {
    "collapsed": false,
    "hidden": true
   },
   "outputs": [
    {
     "data": {
      "text/plain": [
       "[0, 0, 0, 0, 0]"
      ]
     },
     "execution_count": 44,
     "metadata": {},
     "output_type": "execute_result"
    }
   ],
   "source": [
    "stack"
   ]
  },
  {
   "cell_type": "code",
   "execution_count": 45,
   "metadata": {
    "collapsed": false,
    "hidden": true
   },
   "outputs": [
    {
     "name": "stdout",
     "output_type": "stream",
     "text": [
      "[1, 0, 0, 0, 0] 1\n"
     ]
    }
   ],
   "source": [
    "push(1)"
   ]
  },
  {
   "cell_type": "code",
   "execution_count": 46,
   "metadata": {
    "collapsed": false,
    "hidden": true
   },
   "outputs": [
    {
     "name": "stdout",
     "output_type": "stream",
     "text": [
      "[1, 2, 0, 0, 0] 2\n"
     ]
    }
   ],
   "source": [
    "push(2)"
   ]
  },
  {
   "cell_type": "code",
   "execution_count": 47,
   "metadata": {
    "collapsed": false,
    "hidden": true
   },
   "outputs": [
    {
     "name": "stdout",
     "output_type": "stream",
     "text": [
      "[1, 2, 0, 0, 0] 1\n"
     ]
    },
    {
     "data": {
      "text/plain": [
       "2"
      ]
     },
     "execution_count": 47,
     "metadata": {},
     "output_type": "execute_result"
    }
   ],
   "source": [
    "pop()"
   ]
  },
  {
   "cell_type": "markdown",
   "metadata": {
    "hidden": true
   },
   "source": [
    "## Queue"
   ]
  },
  {
   "cell_type": "code",
   "execution_count": 59,
   "metadata": {
    "collapsed": true,
    "hidden": true
   },
   "outputs": [],
   "source": [
    "N = 5\n",
    "queue = [0] * N\n",
    "head, tail = 0, 0\n",
    "def push(x):\n",
    "    global tail\n",
    "    tail = (tail + 1) % N\n",
    "    queue[tail] = x\n",
    "    print(queue, head, tail)\n",
    "def pop():\n",
    "    global head\n",
    "    head = (head + 1) % N\n",
    "    print(queue, head, tail)\n",
    "    return queue[head]\n",
    "def size():\n",
    "    return (tail - head + N) % N\n",
    "def empty():\n",
    "    return head == tail"
   ]
  },
  {
   "cell_type": "code",
   "execution_count": 62,
   "metadata": {
    "collapsed": false,
    "hidden": true
   },
   "outputs": [
    {
     "data": {
      "text/plain": [
       "[0, 1, 0, 0, 0]"
      ]
     },
     "execution_count": 62,
     "metadata": {},
     "output_type": "execute_result"
    }
   ],
   "source": [
    "queue"
   ]
  },
  {
   "cell_type": "markdown",
   "metadata": {
    "heading_collapsed": true
   },
   "source": [
    "# Lesson 8 - Leader"
   ]
  },
  {
   "cell_type": "code",
   "execution_count": 63,
   "metadata": {
    "collapsed": true,
    "hidden": true
   },
   "outputs": [],
   "source": [
    "def goldenLeader(A):\n",
    "    n = len(A)\n",
    "    size = 0\n",
    "    for k in range(n):\n",
    "        if (size == 0):\n",
    "            size += 1\n",
    "            value = A[k]\n",
    "        else:\n",
    "            if (value != A[k]):\n",
    "                size -= 1\n",
    "            else:\n",
    "                size += 1\n",
    "    candidate = -1\n",
    "    if (size > 0):\n",
    "        candidate = value\n",
    "    leader = -1\n",
    "    count = 0\n",
    "    for k in range(n):\n",
    "        if (A[k] == candidate):\n",
    "            count += 1\n",
    "    if (count > n // 2):\n",
    "        leader = candidate\n",
    "    return leader"
   ]
  },
  {
   "cell_type": "code",
   "execution_count": 64,
   "metadata": {
    "collapsed": false,
    "hidden": true
   },
   "outputs": [
    {
     "data": {
      "text/plain": [
       "2"
      ]
     },
     "execution_count": 64,
     "metadata": {},
     "output_type": "execute_result"
    }
   ],
   "source": [
    "goldenLeader([1, 2, 8, 2, 2])"
   ]
  },
  {
   "cell_type": "markdown",
   "metadata": {},
   "source": [
    "# Lesson 9 - Maximum slice problem"
   ]
  },
  {
   "cell_type": "code",
   "execution_count": null,
   "metadata": {
    "collapsed": true
   },
   "outputs": [],
   "source": []
  },
  {
   "cell_type": "markdown",
   "metadata": {},
   "source": [
    "# Lesson 10 - Prime and composite numbers"
   ]
  },
  {
   "cell_type": "code",
   "execution_count": null,
   "metadata": {
    "collapsed": true
   },
   "outputs": [],
   "source": []
  },
  {
   "cell_type": "code",
   "execution_count": null,
   "metadata": {
    "collapsed": true
   },
   "outputs": [],
   "source": []
  },
  {
   "cell_type": "code",
   "execution_count": null,
   "metadata": {
    "collapsed": true
   },
   "outputs": [],
   "source": []
  },
  {
   "cell_type": "code",
   "execution_count": null,
   "metadata": {
    "collapsed": true
   },
   "outputs": [],
   "source": []
  },
  {
   "cell_type": "code",
   "execution_count": null,
   "metadata": {
    "collapsed": true
   },
   "outputs": [],
   "source": []
  },
  {
   "cell_type": "code",
   "execution_count": null,
   "metadata": {
    "collapsed": true
   },
   "outputs": [],
   "source": []
  },
  {
   "cell_type": "markdown",
   "metadata": {
    "collapsed": true
   },
   "source": [
    "# Task 1"
   ]
  },
  {
   "cell_type": "markdown",
   "metadata": {},
   "source": []
  },
  {
   "cell_type": "code",
   "execution_count": 1,
   "metadata": {
    "collapsed": false
   },
   "outputs": [],
   "source": [
    "def solution(N):\n",
    "    l = [x for x in range(1, N+1)]\n",
    "    \n",
    "    lookup = {3: 'Fizz', 5: 'Buzz', 7: 'Woof'}\n",
    "    for x in l:\n",
    "        s = ''\n",
    "        for i in lookup:\n",
    "            if x % i == 0:\n",
    "                s += lookup[i]\n",
    "        if not s:\n",
    "            s = str(x)\n",
    "        print(s) \n",
    "    "
   ]
  },
  {
   "cell_type": "code",
   "execution_count": 3,
   "metadata": {
    "collapsed": false
   },
   "outputs": [
    {
     "name": "stdout",
     "output_type": "stream",
     "text": [
      "1\n",
      "2\n",
      "Fizz\n",
      "4\n",
      "Buzz\n",
      "Fizz\n",
      "Woof\n",
      "8\n",
      "Fizz\n",
      "Buzz\n",
      "11\n",
      "Fizz\n",
      "13\n",
      "Woof\n",
      "FizzBuzz\n",
      "16\n",
      "17\n",
      "Fizz\n",
      "19\n",
      "Buzz\n",
      "FizzWoof\n",
      "22\n",
      "23\n",
      "Fizz\n"
     ]
    }
   ],
   "source": [
    "solution(1000)"
   ]
  },
  {
   "cell_type": "markdown",
   "metadata": {
    "collapsed": true
   },
   "source": [
    "# Task 2"
   ]
  },
  {
   "cell_type": "code",
   "execution_count": 95,
   "metadata": {
    "collapsed": true
   },
   "outputs": [],
   "source": [
    "def solution(S):\n",
    "    uppers = ''.join(str(chr(i)) for i in range(ord('A'), ord('Z')+1))\n",
    "    digits = '1234567890'\n",
    "    \n",
    "    length = -1\n",
    "    candidates = []\n",
    "    \n",
    "    for idx in range(len(S)):\n",
    "        if S[idx] in uppers:\n",
    "            candidates.append(idx)\n",
    "    \n",
    "#     print(candidates)\n",
    "    \n",
    "    for idx in candidates:\n",
    "        left, right = idx - 1, idx + 1\n",
    "        cur_length = 1\n",
    "        while left >= 0:\n",
    "            if S[left] not in digits:\n",
    "                cur_length += 1\n",
    "                left -= 1\n",
    "            else:\n",
    "                break\n",
    "        \n",
    "        while right <= len(S) - 1:\n",
    "            if S[right] not in digits:\n",
    "                cur_length += 1\n",
    "                right += 1\n",
    "            else:\n",
    "                break\n",
    "        \n",
    "        length = max(length, cur_length)\n",
    "    \n",
    "    \n",
    "#     print(candidates)\n",
    "    return length"
   ]
  },
  {
   "cell_type": "code",
   "execution_count": 96,
   "metadata": {
    "collapsed": true
   },
   "outputs": [],
   "source": [
    "s = '0abCa0'"
   ]
  },
  {
   "cell_type": "code",
   "execution_count": 97,
   "metadata": {
    "collapsed": false
   },
   "outputs": [
    {
     "name": "stdout",
     "output_type": "stream",
     "text": [
      "[3]\n",
      "[3]\n"
     ]
    },
    {
     "data": {
      "text/plain": [
       "4"
      ]
     },
     "execution_count": 97,
     "metadata": {},
     "output_type": "execute_result"
    }
   ],
   "source": [
    "solution(s)"
   ]
  },
  {
   "cell_type": "markdown",
   "metadata": {},
   "source": [
    "# Task 3"
   ]
  },
  {
   "cell_type": "code",
   "execution_count": 99,
   "metadata": {
    "collapsed": false
   },
   "outputs": [],
   "source": [
    "def solution(A):\n",
    "    N = len(A)\n",
    "    result = 0\n",
    "    for i in range(N):\n",
    "        for j in range(N):\n",
    "            if A[i] == A[j]:\n",
    "                result = max(result, abs(i - j))\n",
    "    return result"
   ]
  },
  {
   "cell_type": "code",
   "execution_count": 100,
   "metadata": {
    "collapsed": true
   },
   "outputs": [],
   "source": [
    "A = [2 for _ in range(100)]"
   ]
  },
  {
   "cell_type": "code",
   "execution_count": 110,
   "metadata": {
    "collapsed": false
   },
   "outputs": [
    {
     "data": {
      "text/plain": [
       "99999"
      ]
     },
     "execution_count": 110,
     "metadata": {},
     "output_type": "execute_result"
    }
   ],
   "source": [
    "solution(A)"
   ]
  },
  {
   "cell_type": "code",
   "execution_count": 111,
   "metadata": {
    "collapsed": true
   },
   "outputs": [],
   "source": [
    "def solution(A):\n",
    "    last_seen = [-1 for _ in range(100000)]\n",
    "    distance = 0\n",
    "    for i in range(len(A)):\n",
    "        idx = A[i] - 1\n",
    "        if last_seen[idx] == -1:\n",
    "            last_seen[idx] = i\n",
    "        else:\n",
    "            distance = max(distance, abs(i - last_seen[idx]))\n",
    "    \n",
    "    return distance\n",
    "        \n",
    "    "
   ]
  },
  {
   "cell_type": "code",
   "execution_count": 109,
   "metadata": {
    "collapsed": false
   },
   "outputs": [],
   "source": [
    "A = [2 for _ in range(100000)]"
   ]
  },
  {
   "cell_type": "code",
   "execution_count": 112,
   "metadata": {
    "collapsed": false
   },
   "outputs": [
    {
     "data": {
      "text/plain": [
       "99999"
      ]
     },
     "execution_count": 112,
     "metadata": {},
     "output_type": "execute_result"
    }
   ],
   "source": [
    "solution(A)"
   ]
  },
  {
   "cell_type": "code",
   "execution_count": null,
   "metadata": {
    "collapsed": true
   },
   "outputs": [],
   "source": []
  },
  {
   "cell_type": "code",
   "execution_count": null,
   "metadata": {
    "collapsed": true
   },
   "outputs": [],
   "source": []
  },
  {
   "cell_type": "markdown",
   "metadata": {},
   "source": [
    "# Task 4"
   ]
  },
  {
   "cell_type": "code",
   "execution_count": 145,
   "metadata": {
    "collapsed": true
   },
   "outputs": [],
   "source": [
    "def solution(A):\n",
    "   "
   ]
  },
  {
   "cell_type": "code",
   "execution_count": 147,
   "metadata": {
    "collapsed": true
   },
   "outputs": [],
   "source": [
    "A = [4, 6, 7, 3, 2, 7]"
   ]
  },
  {
   "cell_type": "code",
   "execution_count": 163,
   "metadata": {
    "collapsed": false
   },
   "outputs": [
    {
     "data": {
      "text/plain": [
       "[(4, 2), (3, 3), (0, 4), (1, 6), (2, 7), (5, 7)]"
      ]
     },
     "execution_count": 163,
     "metadata": {},
     "output_type": "execute_result"
    }
   ],
   "source": [
    "tuples = sorted([(idx, v) for idx, v in enumerate(A)], key=lambda x: x[1])\n",
    "tuples"
   ]
  },
  {
   "cell_type": "code",
   "execution_count": 148,
   "metadata": {
    "collapsed": true
   },
   "outputs": [],
   "source": [
    "assert solution(A) == 9\n",
    "\n",
    "\n"
   ]
  },
  {
   "cell_type": "code",
   "execution_count": null,
   "metadata": {
    "collapsed": true
   },
   "outputs": [],
   "source": []
  },
  {
   "cell_type": "code",
   "execution_count": 115,
   "metadata": {
    "collapsed": false
   },
   "outputs": [
    {
     "data": {
      "text/plain": [
       "9"
      ]
     },
     "execution_count": 115,
     "metadata": {},
     "output_type": "execute_result"
    }
   ],
   "source": [
    "9 % (1000000000 + 7)"
   ]
  },
  {
   "cell_type": "code",
   "execution_count": null,
   "metadata": {
    "collapsed": true
   },
   "outputs": [],
   "source": []
  }
 ],
 "metadata": {
  "_draft": {
   "nbviewer_url": "https://gist.github.com/9253b5b5314a0ae89766fcfcee7ae15f"
  },
  "gist": {
   "data": {
    "description": "codility/Lessons.ipynb",
    "public": true
   },
   "id": "9253b5b5314a0ae89766fcfcee7ae15f"
  },
  "kernelspec": {
   "display_name": "Python 2",
   "language": "python",
   "name": "python2"
  },
  "language_info": {
   "codemirror_mode": {
    "name": "ipython",
    "version": 2
   },
   "file_extension": ".py",
   "mimetype": "text/x-python",
   "name": "python",
   "nbconvert_exporter": "python",
   "pygments_lexer": "ipython2",
   "version": "2.7.11"
  },
  "toc": {
   "nav_menu": {},
   "number_sections": false,
   "sideBar": false,
   "skip_h1_title": false,
   "toc_cell": false,
   "toc_position": {},
   "toc_section_display": "block",
   "toc_window_display": false
  },
  "varInspector": {
   "cols": {
    "lenName": 16,
    "lenType": 16,
    "lenVar": 40
   },
   "kernels_config": {
    "python": {
     "delete_cmd_postfix": "",
     "delete_cmd_prefix": "del ",
     "library": "var_list.py",
     "varRefreshCmd": "print(var_dic_list())"
    },
    "r": {
     "delete_cmd_postfix": ") ",
     "delete_cmd_prefix": "rm(",
     "library": "var_list.r",
     "varRefreshCmd": "cat(var_dic_list()) "
    }
   },
   "types_to_exclude": [
    "module",
    "function",
    "builtin_function_or_method",
    "instance",
    "_Feature"
   ],
   "window_display": false
  }
 },
 "nbformat": 4,
 "nbformat_minor": 2
}

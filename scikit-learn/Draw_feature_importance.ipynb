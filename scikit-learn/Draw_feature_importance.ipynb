{
 "cells": [
  {
   "cell_type": "markdown",
   "metadata": {},
   "source": [
    "XGBoost 可以用 helper: xgboost.plot_importance 畫, 但是只適合在features數少的時候\n",
    "\n",
    "References\n",
    "- http://xgboost.readthedocs.io/en/latest/python/python_api.html#module-xgboost.plotting"
   ]
  },
  {
   "cell_type": "code",
   "execution_count": null,
   "metadata": {
    "collapsed": true
   },
   "outputs": [],
   "source": [
    "def plot_importances(clf, feature_names, top_n=None):\n",
    "    top_n = top_n if top_n else len(feature_names)\n",
    "    f_importances = sorted([(k, v) for k, v in \\\n",
    "        zip(feature_names, clf.feature_importances_)], key=lambda t: t[1], reverse=True)\n",
    "    f_names = [t[0] for t in f_importances[:top_n]]\n",
    "    f_values = [t[1] for t in f_importances[:top_n]]\n",
    "    indices = list(range(len(f_names)))\n",
    "    \n",
    "    # plotting\n",
    "    plt.barh(indices, f_values)\n",
    "    plt.yticks([idx + 0.5 for idx in indices], f_names)\n",
    "    plt.xlabel(\"Feature importance\")\n",
    "    plt.ylabel(\"Feature name\")\n",
    "    \n",
    "plot_importances(grid.best_estimator_, mlb.classes_, 5)"
   ]
  }
 ],
 "metadata": {
  "_draft": {
   "nbviewer_url": "https://gist.github.com/76c4aa9b9cdff6f132cc9818d1577466"
  },
  "gist": {
   "data": {
    "description": "Draw_feature_importance.ipynb",
    "public": true
   },
   "id": "76c4aa9b9cdff6f132cc9818d1577466"
  },
  "kernelspec": {
   "display_name": "Python 3",
   "language": "python",
   "name": "python3"
  },
  "language_info": {
   "codemirror_mode": {
    "name": "ipython",
    "version": 3
   },
   "file_extension": ".py",
   "mimetype": "text/x-python",
   "name": "python",
   "nbconvert_exporter": "python",
   "pygments_lexer": "ipython3",
   "version": "3.5.3"
  },
  "toc": {
   "nav_menu": {},
   "number_sections": true,
   "sideBar": false,
   "skip_h1_title": false,
   "toc_cell": false,
   "toc_position": {},
   "toc_section_display": "block",
   "toc_window_display": false
  },
  "varInspector": {
   "cols": {
    "lenName": 16,
    "lenType": 16,
    "lenVar": 40
   },
   "kernels_config": {
    "python": {
     "delete_cmd_postfix": "",
     "delete_cmd_prefix": "del ",
     "library": "var_list.py",
     "varRefreshCmd": "print(var_dic_list())"
    },
    "r": {
     "delete_cmd_postfix": ") ",
     "delete_cmd_prefix": "rm(",
     "library": "var_list.r",
     "varRefreshCmd": "cat(var_dic_list()) "
    }
   },
   "types_to_exclude": [
    "module",
    "function",
    "builtin_function_or_method",
    "instance",
    "_Feature"
   ],
   "window_display": false
  }
 },
 "nbformat": 4,
 "nbformat_minor": 2
}
